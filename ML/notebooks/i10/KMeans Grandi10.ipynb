{
 "cells": [
  {
   "cell_type": "code",
   "execution_count": 14,
   "id": "c70469a9-78de-4b3d-8e6a-3da4d5894262",
   "metadata": {},
   "outputs": [],
   "source": [
    "import numpy as np \n",
    "import pandas as pd \n",
    "import matplotlib.pyplot as plt \n",
    "from sklearn.cluster import KMeans\n",
    "from pathlib import Path\n",
    "\n",
    "\n",
    "%matplotlib inline "
   ]
  },
  {
   "cell_type": "code",
   "execution_count": 19,
   "id": "f2ada9d2-469c-473e-b70c-ef3753ade749",
   "metadata": {},
   "outputs": [],
   "source": [
    "data_folder = Path.cwd().parent / \"data/data_kmeans.parquet\"\n"
   ]
  },
  {
   "cell_type": "code",
   "execution_count": 20,
   "id": "dc046bf8-f8c4-448f-a8d8-a0a3b07fa20b",
   "metadata": {},
   "outputs": [],
   "source": [
    "dataset = pd.read_parquet(data_folder)"
   ]
  },
  {
   "cell_type": "code",
   "execution_count": null,
   "id": "590bcd62-2272-40f1-af48-b8f10c5095ae",
   "metadata": {},
   "outputs": [],
   "source": [
    "dataset.info()"
   ]
  },
  {
   "cell_type": "code",
   "execution_count": null,
   "id": "5d33595c-3532-4f59-a1d3-0928e72c7f4a",
   "metadata": {},
   "outputs": [],
   "source": [
    "dataset.head()"
   ]
  },
  {
   "cell_type": "code",
   "execution_count": null,
   "id": "9bb7ce32-656e-463e-8ef5-e110c87ee458",
   "metadata": {},
   "outputs": [],
   "source": [
    "grand_i10_variables = dataset.drop(['vin'], axis=1).drop(['year_modelo'], axis=1)\n",
    "grand_i10_variables.head()"
   ]
  },
  {
   "cell_type": "code",
   "execution_count": null,
   "id": "781e7711-5ce2-432a-b668-cb1ae4444c7b",
   "metadata": {},
   "outputs": [],
   "source": [
    "grand_i10_variables.describe()"
   ]
  },
  {
   "cell_type": "markdown",
   "id": "a7fe136b-4889-40a4-8d03-759d4050a5de",
   "metadata": {},
   "source": [
    "### Normalizando los datos"
   ]
  },
  {
   "cell_type": "code",
   "execution_count": null,
   "id": "34e511c0-7717-4c72-b004-de7bd1523bf3",
   "metadata": {},
   "outputs": [],
   "source": [
    "data_normalizada = (grand_i10_variables-grand_i10_variables.min()) / (grand_i10_variables.max()-grand_i10_variables.min())\n",
    "data_normalizada.describe()\n"
   ]
  },
  {
   "cell_type": "markdown",
   "id": "f1760846-ecdb-4c45-ab2b-055ebc24d060",
   "metadata": {},
   "source": [
    "### Búsqueda de la cantidad optima de clusters\n",
    "- calculo de la similitud de los individuos dentro de los clusters"
   ]
  },
  {
   "cell_type": "code",
   "execution_count": null,
   "id": "5ac10f0e-1810-40f6-8072-72dcd0cc53eb",
   "metadata": {},
   "outputs": [],
   "source": [
    "wcss = []\n",
    "\n",
    "for i in range(1, 15):\n",
    "    kmeans = KMeans(n_clusters=i, max_iter=300)\n",
    "    kmeans.fit(data_normalizada)\n",
    "    wcss.append(kmeans.inertia_)"
   ]
  },
  {
   "cell_type": "markdown",
   "id": "5e538996-73ae-4b96-839a-8701dafef3ba",
   "metadata": {},
   "source": [
    "### Gráfica del codo de Jambú"
   ]
  },
  {
   "cell_type": "code",
   "execution_count": null,
   "id": "b8d84632-68d5-445f-b09e-aa5f0b8fa15b",
   "metadata": {},
   "outputs": [],
   "source": [
    "plt.plot(range(1,15), wcss)\n",
    "plt.title(\"Codo de Jambú\")\n",
    "plt.xlabel(\"# de Clusters\")\n",
    "plt.ylabel(\"WCSS\")\n",
    "plt.show()"
   ]
  },
  {
   "cell_type": "code",
   "execution_count": null,
   "id": "82a8a6cc-2770-43fc-ac8b-f79cd12e2801",
   "metadata": {},
   "outputs": [],
   "source": [
    "clustering = KMeans(n_clusters=5, max_iter=300)\n",
    "clustering.fit(data_normalizada) ## Aplica el modelo a la base"
   ]
  },
  {
   "cell_type": "code",
   "execution_count": null,
   "id": "825f87dd-2376-4379-b28b-f18135d7c921",
   "metadata": {},
   "outputs": [],
   "source": [
    "print(clustering.inertia_)"
   ]
  },
  {
   "cell_type": "markdown",
   "id": "b712d79d-9673-4cc7-805e-d0729c44db6d",
   "metadata": {},
   "source": [
    "### Aquí se agrega la clasificación al archivo original"
   ]
  },
  {
   "cell_type": "code",
   "execution_count": null,
   "id": "6f9e6c22-c528-4e9c-84a8-04e90f27de02",
   "metadata": {},
   "outputs": [],
   "source": [
    "dataset[\"KMeans_Clustering\"] = clustering.labels_\n",
    "dataset.head()"
   ]
  },
  {
   "cell_type": "markdown",
   "id": "f8ed07ce-8d1f-40ca-b861-dc65c81d41fd",
   "metadata": {},
   "source": [
    "### Visualizando los clusters\n",
    "- Utilizando PCA"
   ]
  },
  {
   "cell_type": "code",
   "execution_count": null,
   "id": "fd800d76-acbf-46fa-b67a-9d13d25184db",
   "metadata": {},
   "outputs": [],
   "source": [
    "from sklearn.decomposition import PCA\n",
    "pca = PCA(n_components=2)\n",
    "pca_results = pca.fit_transform(data_normalizada)\n",
    "pca_df = pd.DataFrame(data=pca_results, columns=[\"Componente_1\", \"Componente_2\"])\n",
    "pca_df_clusters = pd.concat([pca_df, dataset[[\"KMeans_Clustering\"]]], axis=1)\n",
    "#pca_df_clusters\n"
   ]
  },
  {
   "cell_type": "code",
   "execution_count": null,
   "id": "94542708-b926-47f4-bda4-0be3930d8096",
   "metadata": {},
   "outputs": [],
   "source": [
    "fig = plt.figure(figsize=(8,5))\n",
    "ax = fig.add_subplot(1,1,1)\n",
    "ax.set_xlabel(\"Componente 1\")\n",
    "ax.set_ylabel(\"Componente 2\")\n",
    "ax.set_title(\"Componentes principales\")\n",
    "\n",
    "color_theme = np.array([\"blue\",\"green\", \"black\",\"orange\", \"purple\"])\n",
    "ax.scatter(x=pca_df_clusters.Componente_1, y=pca_df_clusters.Componente_2,\n",
    "          c=color_theme[pca_df_clusters.KMeans_Clustering], s=5)\n",
    "\n",
    "plt.show()\n"
   ]
  },
  {
   "cell_type": "code",
   "execution_count": null,
   "id": "d696071c-ed22-4a08-b30e-f4895fdd24f0",
   "metadata": {},
   "outputs": [],
   "source": [
    "dataset.to_csv(\"data/i10/output_model_data_grand_i10.csv\")"
   ]
  },
  {
   "cell_type": "code",
   "execution_count": null,
   "id": "72e8071c-477f-426d-bddc-7d66dffaae86",
   "metadata": {},
   "outputs": [],
   "source": []
  }
 ],
 "metadata": {
  "kernelspec": {
   "display_name": "Python 3 (ipykernel)",
   "language": "python",
   "name": "python3"
  },
  "language_info": {
   "codemirror_mode": {
    "name": "ipython",
    "version": 3
   },
   "file_extension": ".py",
   "mimetype": "text/x-python",
   "name": "python",
   "nbconvert_exporter": "python",
   "pygments_lexer": "ipython3",
   "version": "3.11.6"
  }
 },
 "nbformat": 4,
 "nbformat_minor": 5
}
