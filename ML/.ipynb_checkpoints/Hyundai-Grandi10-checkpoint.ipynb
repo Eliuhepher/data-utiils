{
 "cells": [
  {
   "cell_type": "code",
   "execution_count": 1,
   "id": "6d659d53-569d-47db-8aca-c7ef25d720c2",
   "metadata": {},
   "outputs": [],
   "source": [
    "import findspark\n",
    "findspark.init()\n",
    "from pyspark.sql import SparkSession\n",
    "from pyspark.sql.functions import col, exp, count\n"
   ]
  },
  {
   "cell_type": "code",
   "execution_count": 2,
   "id": "03f47c73-e32d-4dd3-bc6f-d72d5b55f97f",
   "metadata": {},
   "outputs": [],
   "source": [
    "spark = SparkSession.builder.appName('firstSession')\\\n",
    "    .config('spark.master', 'local[4]')\\\n",
    "    .config('spark.executor.memory', '1g')\\\n",
    "    .config(\"spark.sql.shuffle.partitions\", 1)\\\n",
    "    .config('spark.driver.memory','1g')\\\n",
    "    .getOrCreate()"
   ]
  },
  {
   "cell_type": "code",
   "execution_count": 3,
   "id": "08d9e4c1-5c8c-4864-b3a1-6176e0721038",
   "metadata": {},
   "outputs": [],
   "source": [
    "FILE = \"data_output_operaciones_hyundai.parquet\""
   ]
  },
  {
   "cell_type": "code",
   "execution_count": 4,
   "id": "2cf5be06-e325-451f-ae24-9e8d67371c99",
   "metadata": {},
   "outputs": [],
   "source": [
    "df = spark.read.parquet(FILE)"
   ]
  },
  {
   "cell_type": "code",
   "execution_count": 5,
   "id": "ac8314ad-6dd2-401e-9067-e436116c2008",
   "metadata": {},
   "outputs": [
    {
     "name": "stdout",
     "output_type": "stream",
     "text": [
      "+----------+-----------------+------------------+--------------+---------+---------------+-----------+-----------+--------------------+\n",
      "|Unnamed: 0|              vin|num_orden_servicio|tipo_operacion|   modelo|       rango_km|year_modelo|kilometraje|           operacion|\n",
      "+----------+-----------------+------------------+--------------+---------+---------------+-----------+-----------+--------------------+\n",
      "|         0|MB2PB2A26MM153909|         N00032098| Mantenimiento|    CRETA|45,001 a 55,000|       2021|      49656| SERVICIO 50 MIL KMS|\n",
      "|         1|MALA74BC4LM392313|         N00032099| Mantenimiento|GRAND I10|15,001 a 25,000|       2020|      21938| SERVICIO 60 MIL KMS|\n",
      "|         2|MALA74BCXKM319896|         N00032101| Mantenimiento|GRAND I10|45,001 a 55,000|       2019|      51088| SERVICIO 50 MIL KMS|\n",
      "|         3|MB2PB2A21NM267057|         N00032102| Mantenimiento|    CRETA| 6,001 a 15,000|       2022|      11604| SERVICIO 40 MIL KMS|\n",
      "|         4|TMCJ33A31JJ508331|         N00032104|    Reparacion|   TUCSON|45,001 a 55,000|       2018|      50425|LIMPIEZA AL SISTE...|\n",
      "|         5|TMCJ33A31JJ508331|         N00032104| Mantenimiento|   TUCSON|45,001 a 55,000|       2018|      50425|SERVICIO 110 MIL ...|\n",
      "|         6|KM8R64GE5PU569665|         N00032106| Mantenimiento| SANTA FE| 6,001 a 15,000|       2023|      12776|    SERVICIO 20M KMS|\n",
      "|         7|MB2PB2A20PM379772|         N00032107| Mantenimiento|    CRETA| 6,001 a 15,000|       2023|       9965| SERVICIO 20 MIL KMS|\n",
      "|         8|TMCJ33A3XJJ427490|         N00032110|    Reparacion|   TUCSON|85,001 a 95,000|       2018|      92440|LIMPIEZA AL SISTE...|\n",
      "|         9|TMCJ33A3XJJ427490|         N00032110| Mantenimiento|   TUCSON|85,001 a 95,000|       2018|      92440| SERVICIO 90 MIL KMS|\n",
      "|        10|MALB24BC2PM187730|         N00032112| Mantenimiento|GRAND I10|     00 a 6,000|       2023|       3329|  SERVICO 10 MIL KMS|\n",
      "|        11|TMCJ33A3XHJ360626|         N00032113| Mantenimiento|   TUCSON|25,001 a 35,000|       2017|      25103| SERVICIO 100M KMS ,|\n",
      "|        12|9BHCP4AC1PP380229|      000010486426| Mantenimiento|     HB20|     00 a 6,000|       2023|          9|HB20 2023 MTTO 20...|\n",
      "|        13|3KPC24B58ME142522|            151143|    Reparacion|   ACCENT|15,001 a 25,000|       2021|      23484|Desgaste natural ...|\n",
      "|        14|3KPC24B58ME142522|            151143| Mantenimiento|   ACCENT|15,001 a 25,000|       2021|      23484|Mantenimiento de ...|\n",
      "|        15|5NPD74AF6KH459269|            151145|    Reparacion|  ELANTRA|65,001 a 75,000|       2019|      71121|Desgaste natural ...|\n",
      "|        16|5NPD74AF6KH459269|            151145| Mantenimiento|  ELANTRA|65,001 a 75,000|       2019|      71121|Mantenimiento de ...|\n",
      "|        17|3KPC24B51LE092058|            151148|    Reparacion|   ACCENT|25,001 a 35,000|       2020|      31983|Desgaste natural ...|\n",
      "|        18|3KPC24B51LE092058|            151148| Mantenimiento|   ACCENT|25,001 a 35,000|       2020|      31983|Mantenimiento de ...|\n",
      "|        19|MALB24BC1NM080262|            151150|    Reparacion|GRAND I10|15,001 a 25,000|       2022|      24003|Desgaste natural ...|\n",
      "+----------+-----------------+------------------+--------------+---------+---------------+-----------+-----------+--------------------+\n",
      "only showing top 20 rows\n",
      "\n"
     ]
    }
   ],
   "source": [
    "df.show()"
   ]
  },
  {
   "cell_type": "code",
   "execution_count": 6,
   "id": "5912cb87-b526-4b62-84eb-2b6213f67d12",
   "metadata": {},
   "outputs": [
    {
     "name": "stdout",
     "output_type": "stream",
     "text": [
      "+----------+-----------------+------------------+--------------+---------+---------------+-----------+-----------+--------------------+\n",
      "|Unnamed: 0|              vin|num_orden_servicio|tipo_operacion|   modelo|       rango_km|year_modelo|kilometraje|           operacion|\n",
      "+----------+-----------------+------------------+--------------+---------+---------------+-----------+-----------+--------------------+\n",
      "|         1|MALA74BC4LM392313|         N00032099| Mantenimiento|GRAND I10|15,001 a 25,000|       2020|      21938| SERVICIO 60 MIL KMS|\n",
      "|         2|MALA74BCXKM319896|         N00032101| Mantenimiento|GRAND I10|45,001 a 55,000|       2019|      51088| SERVICIO 50 MIL KMS|\n",
      "|        10|MALB24BC2PM187730|         N00032112| Mantenimiento|GRAND I10|     00 a 6,000|       2023|       3329|  SERVICO 10 MIL KMS|\n",
      "|        19|MALB24BC1NM080262|            151150|    Reparacion|GRAND I10|15,001 a 25,000|       2022|      24003|Desgaste natural ...|\n",
      "|        20|MALB24BC1NM080262|            151150| Mantenimiento|GRAND I10|15,001 a 25,000|       2022|      24003|Mantenimiento de ...|\n",
      "|        21|MALB24BC0PM168464|            151152|    Reparacion|GRAND I10|25,001 a 35,000|       2023|      29376|Desgaste natural ...|\n",
      "|        22|MALB24BC0PM168464|            151152| Mantenimiento|GRAND I10|25,001 a 35,000|       2023|      29376|Mantenimiento de ...|\n",
      "|        27|MALA84BC4LM391109|            151155|    Reparacion|GRAND I10|55,001 a 65,000|       2020|      64039|Desgaste natural ...|\n",
      "|        28|MALA84BC4LM391109|            151155| Mantenimiento|GRAND I10|55,001 a 65,000|       2020|      64039|Mantenimiento de ...|\n",
      "|        29|MALB24BC6MM062371|            151156|    Reparacion|GRAND I10|45,001 a 55,000|       2021|      46413|Desgaste natural ...|\n",
      "|        30|MALB24BC6MM062371|            151156|    Reparacion|GRAND I10|45,001 a 55,000|       2021|      46413|Mal funcionamient...|\n",
      "|        31|MALB24BC6MM062371|            151156| Mantenimiento|GRAND I10|45,001 a 55,000|       2021|      46413|Mantenimiento de ...|\n",
      "|        34|MALB24BC4MM024573|            151159|    Reparacion|GRAND I10|25,001 a 35,000|       2021|      34693|Desgaste natural ...|\n",
      "|        35|MALB24BC4MM024573|            151159| Mantenimiento|GRAND I10|25,001 a 35,000|       2021|      34693|Mantenimiento de ...|\n",
      "|        44|MALB24BC5NM083620|            151170|    Reparacion|GRAND I10|45,001 a 55,000|       2022|      48793|Desgaste natural ...|\n",
      "|        45|MALB24BC5NM083620|            151170| Mantenimiento|GRAND I10|45,001 a 55,000|       2022|      48793|Mantenimiento de ...|\n",
      "|        48|MALA84BC6LM399700|            151174|    Reparacion|GRAND I10|35,001 a 45,000|       2020|      40843|Desgaste natural ...|\n",
      "|        49|MALA84BC6LM399700|            151174| Mantenimiento|GRAND I10|35,001 a 45,000|       2020|      40843|Mantenimiento de ...|\n",
      "|        51|MALA85BC4LM034082|            151178|    Reparacion|GRAND I10|65,001 a 75,000|       2020|      71889|Desgaste natural ...|\n",
      "|        52|MALA85BC4LM034082|            151178| Mantenimiento|GRAND I10|65,001 a 75,000|       2020|      71889|Mantenimiento de ...|\n",
      "+----------+-----------------+------------------+--------------+---------+---------------+-----------+-----------+--------------------+\n",
      "only showing top 20 rows\n",
      "\n"
     ]
    }
   ],
   "source": [
    "## filtrar el modelo Grand i10 \n",
    "\n",
    "grand_i10_df = df.filter(col(\"modelo\") == \"GRAND I10\")\n",
    "grand_i10_df.show()\n"
   ]
  },
  {
   "cell_type": "code",
   "execution_count": 9,
   "id": "83b9b4d5-4600-4094-9331-747ad2bcf048",
   "metadata": {},
   "outputs": [],
   "source": [
    "grand_i10_df.createOrReplaceTempView(\"data_i10\")"
   ]
  },
  {
   "cell_type": "code",
   "execution_count": 12,
   "id": "df688b87-efbb-4959-bf70-41effb74c6d2",
   "metadata": {},
   "outputs": [
    {
     "name": "stdout",
     "output_type": "stream",
     "text": [
      "+-----------------+-----------------+\n",
      "|              vin|visitas_al_taller|\n",
      "+-----------------+-----------------+\n",
      "|MALA74BC4LM392313|               11|\n",
      "|MALA74BCXKM319896|                2|\n",
      "|MALB24BC2PM187730|                1|\n",
      "|MALB24BC1NM080262|                9|\n",
      "|MALB24BC0PM168464|                6|\n",
      "|MALA84BC4LM391109|               18|\n",
      "|MALB24BC6MM062371|               14|\n",
      "|MALB24BC4MM024573|               13|\n",
      "|MALB24BC5NM083620|               11|\n",
      "|MALA84BC6LM399700|               17|\n",
      "|MALA85BC4LM034082|               15|\n",
      "|MALA84BC0LM395352|               17|\n",
      "|MALB25BC6NM216925|                9|\n",
      "|MALB24BC5NM102246|                8|\n",
      "|MALB24BC2PM161970|                8|\n",
      "|MALB24BC9PM174330|                4|\n",
      "|MALB25BC2PM359616|               12|\n",
      "|MALA85BC6KM965083|               13|\n",
      "|MALB24BC1NM090838|                7|\n",
      "|MALB25BC2MM129411|                7|\n",
      "+-----------------+-----------------+\n",
      "only showing top 20 rows\n",
      "\n"
     ]
    }
   ],
   "source": [
    "visitas_al_taller = spark.sql(\"select distinct vin, count(num_orden_servicio) as visitas_al_taller from data_i10 group by vin \")\n",
    "\n",
    "visitas_al_taller.show()"
   ]
  }
 ],
 "metadata": {
  "kernelspec": {
   "display_name": "Python 3 (ipykernel)",
   "language": "python",
   "name": "python3"
  },
  "language_info": {
   "codemirror_mode": {
    "name": "ipython",
    "version": 3
   },
   "file_extension": ".py",
   "mimetype": "text/x-python",
   "name": "python",
   "nbconvert_exporter": "python",
   "pygments_lexer": "ipython3",
   "version": "3.11.6"
  }
 },
 "nbformat": 4,
 "nbformat_minor": 5
}
